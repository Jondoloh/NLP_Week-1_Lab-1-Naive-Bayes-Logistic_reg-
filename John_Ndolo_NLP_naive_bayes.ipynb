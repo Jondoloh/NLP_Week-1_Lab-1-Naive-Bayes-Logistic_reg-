{
  "cells": [
    {
      "cell_type": "markdown",
      "metadata": {
        "id": "view-in-github",
        "colab_type": "text"
      },
      "source": [
        "<a href=\"https://colab.research.google.com/github/Jondoloh/NLP_Week-1_Lab-1-Naive-Bayes-Logistic_reg-/blob/main/John_Ndolo_NLP_naive_bayes.ipynb\" target=\"_parent\"><img src=\"https://colab.research.google.com/assets/colab-badge.svg\" alt=\"Open In Colab\"/></a>"
      ]
    },
    {
      "cell_type": "markdown",
      "metadata": {
        "id": "ptNBpN7pYrif"
      },
      "source": [
        "The goal of this lab is to implement a language identifier (LID).\n",
        "\n",
        "Our first model will be based on Naive Bayes."
      ]
    },
    {
      "cell_type": "code",
      "execution_count": 1,
      "metadata": {
        "id": "K2utr6_uYrik"
      },
      "outputs": [],
      "source": [
        "import io, sys, math, re\n",
        "from collections import defaultdict"
      ]
    },
    {
      "cell_type": "code",
      "source": [
        "from google.colab import drive\n",
        "drive.mount('/content/drive')"
      ],
      "metadata": {
        "colab": {
          "base_uri": "https://localhost:8080/"
        },
        "id": "h7f1cJ-OZlco",
        "outputId": "ed803735-c27b-41af-b71c-42d7b207d9de"
      },
      "execution_count": 2,
      "outputs": [
        {
          "output_type": "stream",
          "name": "stdout",
          "text": [
            "Mounted at /content/drive\n"
          ]
        }
      ]
    },
    {
      "cell_type": "markdown",
      "metadata": {
        "id": "TUWaTUkWYril"
      },
      "source": [
        "The next function is used to load the data. Each line of the data consist of a label (corresponding to a language), followed by some text, written in that language. Here is an example of data:\n",
        "\n",
        "```__label__de Zur Namensdeutung gibt es mehrere Varianten.```\n"
      ]
    },
    {
      "cell_type": "code",
      "execution_count": 3,
      "metadata": {
        "id": "jMnkxlPBYril"
      },
      "outputs": [],
      "source": [
        "def load_data(filename):\n",
        "    fin = io.open(filename, 'r', encoding='utf-8')\n",
        "    data = []\n",
        "    for line in fin:\n",
        "        tokens = line.split()\n",
        "        data.append((tokens[0], tokens[1:]))\n",
        "    return data"
      ]
    },
    {
      "cell_type": "markdown",
      "metadata": {
        "id": "4QySE1UDYrim"
      },
      "source": [
        "You can now try loading the first dataset `train1.txt` and look what examples look like."
      ]
    },
    {
      "cell_type": "code",
      "source": [
        "train1 = '/content/drive/MyDrive/Colab Notebooks/NLP/Week 1/Lab 1/train1.txt'"
      ],
      "metadata": {
        "id": "9nl-sZYxnlO1"
      },
      "execution_count": 12,
      "outputs": []
    },
    {
      "cell_type": "code",
      "source": [
        "valid1 = '/content/drive/MyDrive/Colab Notebooks/NLP/Week 1/Lab 1/valid1.txt'"
      ],
      "metadata": {
        "id": "fB2YT81tpKs-"
      },
      "execution_count": 20,
      "outputs": []
    },
    {
      "cell_type": "code",
      "execution_count": 13,
      "metadata": {
        "id": "c4RG22C4Yrim",
        "colab": {
          "base_uri": "https://localhost:8080/"
        },
        "outputId": "3623d9be-9438-41c2-d1a1-af6feca56c7b"
      },
      "outputs": [
        {
          "output_type": "stream",
          "name": "stdout",
          "text": [
            "[('__label__de', ['Ich', 'würde', 'alles', 'tun,', 'um', 'dich', 'zu', 'beschützen.']), ('__label__de', ['Tom', 'ist', 'an', 'Kunst', 'völlig', 'uninteressiert.']), ('__label__hu', ['Végeztem', 'Tomival.'])]\n"
          ]
        }
      ],
      "source": [
        "data = load_data(train1)\n",
        "print(data[0:3])"
      ]
    },
    {
      "cell_type": "markdown",
      "metadata": {
        "id": "z3jA5Lh7Yrim"
      },
      "source": [
        "Next, we will start implementing the Naive Bayes method. This technique is based on word counts, and we thus need to start by implementing a function to count the words and labels of our training set.\n",
        "\n",
        "`n_examples` is the total number of examples\n",
        "\n",
        "`n_words_per_label` is the total number of words for a given label\n",
        "\n",
        "`label_counts` is the number of times a given label appears in the training data\n",
        "\n",
        "`word_counts` is the number of times a word appears with a given label"
      ]
    },
    {
      "cell_type": "code",
      "execution_count": 14,
      "metadata": {
        "id": "kHwpgOM1Yrin"
      },
      "outputs": [],
      "source": [
        "def count_words(data):\n",
        "    n_examples = 0\n",
        "    n_words_per_label = defaultdict(lambda: 0)\n",
        "    label_counts = defaultdict(lambda: 0)\n",
        "    word_counts = defaultdict(lambda: defaultdict(lambda: 0.0))\n",
        "\n",
        "    for example in data:\n",
        "        label, sentence = example\n",
        "        ## FILL CODE\n",
        "        n_examples +=1\n",
        "        label_counts[label] +=1\n",
        "        \n",
        "\n",
        "        for w in sentence:\n",
        "          n_words_per_label[label] +=1\n",
        "          word_counts[label][w] +=1\n",
        "       \n",
        "\n",
        "    return {'label_counts': label_counts, \n",
        "            'word_counts': word_counts, \n",
        "            'n_examples': n_examples, \n",
        "            'n_words_per_label': n_words_per_label}"
      ]
    },
    {
      "cell_type": "code",
      "source": [
        "#len(data)"
      ],
      "metadata": {
        "id": "_yl-iUUG9pBB"
      },
      "execution_count": null,
      "outputs": []
    },
    {
      "cell_type": "code",
      "source": [
        "#count_words(data[0:3])"
      ],
      "metadata": {
        "id": "HmgpaYCC819Q"
      },
      "execution_count": null,
      "outputs": []
    },
    {
      "cell_type": "code",
      "source": [
        "#count_words(data)"
      ],
      "metadata": {
        "id": "nwfDYZwKuyCx"
      },
      "execution_count": null,
      "outputs": []
    },
    {
      "cell_type": "markdown",
      "metadata": {
        "id": "pgFbuh8CYrin"
      },
      "source": [
        "Next, using the word and label counts from the previous function, we can implement the prediction function.\n",
        "\n",
        "Here, `mu` is a regularization parameter (Laplace smoothing), and `sentence` is the list of words corresponding to the test example."
      ]
    },
    {
      "cell_type": "code",
      "execution_count": 16,
      "metadata": {
        "id": "pCUyTq7iYrio"
      },
      "outputs": [],
      "source": [
        "def predict(sentence, mu, label_counts, word_counts, n_examples, n_words_per_label):\n",
        "    best_label = None\n",
        "    best_score = float('-inf')\n",
        "\n",
        "    '''\n",
        "    voc : The vocabulary of words\n",
        "    mu : The laplace smoothing (Regularizer)\n",
        "    P(j/k) : Pji= (mu + C(j,k))/(mu*V + sum(C(j',K))) #likelihood\n",
        "    j - words given k - class/label\n",
        "    num : numerator of Pji\n",
        "    den : denominator of Pji\n",
        "    '''\n",
        "\n",
        "    for label in word_counts.keys():\n",
        "        score = 0.0\n",
        "        ## FILE CODE\n",
        "        voc = len(word_counts[label]) \n",
        "        for w in sentence:\n",
        "          num = mu + word_counts[label][w]\n",
        "          den = mu*voc + n_words_per_label[label]\n",
        "          score += math.log(num/den)\n",
        "        score +=math.log(label_counts[label]/n_examples)\n",
        "\n",
        "        if score > best_score:\n",
        "          best_score = score\n",
        "          best_label = label\n",
        "\n",
        "    return best_label"
      ]
    },
    {
      "cell_type": "markdown",
      "metadata": {
        "id": "s9TlqMX5Yrio"
      },
      "source": [
        "The next function will be used to evaluate the Naive Bayes model on a validation set. It computes the accuracy for a particular regularization parameter `mu`."
      ]
    },
    {
      "cell_type": "code",
      "execution_count": 17,
      "metadata": {
        "id": "Uo9ke2jFYrio"
      },
      "outputs": [],
      "source": [
        "def compute_accuracy(valid_data, mu, counts):\n",
        "    accuracy = 0.0\n",
        "    for label, sentence in valid_data:\n",
        "        ## FILL CODE\n",
        "        pred = predict(sentence,mu,**counts)\n",
        "        if pred == label:\n",
        "            accuracy+=1\n",
        "    acc = accuracy/len(valid_data)\n",
        "     \n",
        "    return acc"
      ]
    },
    {
      "cell_type": "code",
      "execution_count": 21,
      "metadata": {
        "id": "8NPYC8-kYrip",
        "colab": {
          "base_uri": "https://localhost:8080/"
        },
        "outputId": "86db8168-b5e8-489e-eb70-0762843102e9"
      },
      "outputs": [
        {
          "output_type": "stream",
          "name": "stdout",
          "text": [
            "\n",
            "** Naive Bayes **\n",
            "\n",
            "Validation accuracy: 0.941\n",
            "\n"
          ]
        }
      ],
      "source": [
        "print(\"\")\n",
        "print(\"** Naive Bayes **\")\n",
        "print(\"\")\n",
        "\n",
        "mu = 1.0\n",
        "train_data = load_data(train1)\n",
        "valid_data = load_data(valid1)\n",
        "counts = count_words(train_data)\n",
        "\n",
        "print(\"Validation accuracy: %.3f\" % compute_accuracy(valid_data, mu, counts))\n",
        "print(\"\")"
      ]
    },
    {
      "cell_type": "code",
      "source": [
        ""
      ],
      "metadata": {
        "id": "6Dlyz1DuRJVj"
      },
      "execution_count": null,
      "outputs": []
    }
  ],
  "metadata": {
    "kernelspec": {
      "display_name": "Python 3",
      "language": "python",
      "name": "python3"
    },
    "language_info": {
      "codemirror_mode": {
        "name": "ipython",
        "version": 3
      },
      "file_extension": ".py",
      "mimetype": "text/x-python",
      "name": "python",
      "nbconvert_exporter": "python",
      "pygments_lexer": "ipython3",
      "version": "3.6.2+"
    },
    "colab": {
      "name": "John_Ndolo_NLP_naive_bayes.ipynb",
      "provenance": [],
      "collapsed_sections": [],
      "include_colab_link": true
    },
    "accelerator": "GPU"
  },
  "nbformat": 4,
  "nbformat_minor": 0
}